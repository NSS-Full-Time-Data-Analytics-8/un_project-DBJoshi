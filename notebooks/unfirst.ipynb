{
 "cells": [
  {
   "cell_type": "code",
   "execution_count": null,
   "id": "718f477c",
   "metadata": {},
   "outputs": [],
   "source": [
    "import pandas as pd\n",
    "import numpy as np\n",
    "import matplotlib.pyplot as plt\n",
    "import seaborn as sns\n",
    "%matplotlib inline\n"
   ]
  },
  {
   "cell_type": "code",
   "execution_count": null,
   "id": "ec213232",
   "metadata": {},
   "outputs": [],
   "source": [
    "gdp_df = pd.read_csv('../data/gdp_percapita.csv')\n",
    "gdp_df.head(6)\n"
   ]
  },
  {
   "cell_type": "code",
   "execution_count": null,
   "id": "d11fa269",
   "metadata": {},
   "outputs": [],
   "source": [
    "gdp_df.shape"
   ]
  },
  {
   "cell_type": "code",
   "execution_count": null,
   "id": "c6736def",
   "metadata": {},
   "outputs": [],
   "source": [
    "internet_df = pd.read_csv('../data/internet_use.csv', nrows = 4495)\n",
    "internet_df.shape"
   ]
  },
  {
   "cell_type": "code",
   "execution_count": null,
   "id": "d51298ed",
   "metadata": {},
   "outputs": [],
   "source": [
    "gdp_df.columns.dtype"
   ]
  },
  {
   "cell_type": "code",
   "execution_count": null,
   "id": "6283f948",
   "metadata": {},
   "outputs": [],
   "source": [
    "internet_df.columns.dtype"
   ]
  },
  {
   "cell_type": "code",
   "execution_count": null,
   "id": "c7172b68",
   "metadata": {},
   "outputs": [],
   "source": [
    "gdp_df.tail(10)"
   ]
  },
  {
   "cell_type": "code",
   "execution_count": null,
   "id": "12b5f18b",
   "metadata": {},
   "outputs": [],
   "source": [
    "internet_df.tail(10)"
   ]
  },
  {
   "cell_type": "code",
   "execution_count": null,
   "id": "9292c422",
   "metadata": {},
   "outputs": [],
   "source": [
    "gdp_df = gdp_df.drop('Value Footnotes',axis = 1)"
   ]
  },
  {
   "cell_type": "code",
   "execution_count": null,
   "id": "d9f3d781",
   "metadata": {},
   "outputs": [],
   "source": [
    "gdp_df.head()"
   ]
  },
  {
   "cell_type": "code",
   "execution_count": null,
   "id": "e1857052",
   "metadata": {},
   "outputs": [],
   "source": [
    "internet_df = internet_df.drop('Value Footnotes', axis = 1)"
   ]
  },
  {
   "cell_type": "code",
   "execution_count": null,
   "id": "1ce869c5",
   "metadata": {},
   "outputs": [],
   "source": [
    "internet_df.head()"
   ]
  },
  {
   "cell_type": "code",
   "execution_count": null,
   "id": "9f0183c4",
   "metadata": {},
   "outputs": [],
   "source": [
    "gdp_df = gdp_df.rename(columns ={'Country or Area': 'Country', 'Value': 'GDP_Per_Capita'})"
   ]
  },
  {
   "cell_type": "code",
   "execution_count": null,
   "id": "321e4c42",
   "metadata": {},
   "outputs": [],
   "source": [
    "internet_df = internet_df.rename(columns ={'Country or Area': 'Country', 'Value': 'Internet_Users_Pct'})"
   ]
  },
  {
   "cell_type": "code",
   "execution_count": null,
   "id": "00ab74c8",
   "metadata": {},
   "outputs": [],
   "source": [
    "gdp_and_internet_use_df = pd.merge(gdp_df, internet_df, on = ['Year', 'Country'], how= 'outer')\n",
    "gdp_and_internet_use_df.shape"
   ]
  },
  {
   "cell_type": "code",
   "execution_count": null,
   "id": "fa11a076",
   "metadata": {},
   "outputs": [],
   "source": [
    "gdp_and_internet_use_df.head()"
   ]
  },
  {
   "cell_type": "code",
   "execution_count": null,
   "id": "00aa19f5",
   "metadata": {},
   "outputs": [],
   "source": [
    "gdp_and_internet_use_df.tail()"
   ]
  },
  {
   "cell_type": "code",
   "execution_count": null,
   "id": "e9afccdc",
   "metadata": {},
   "outputs": [],
   "source": [
    "subset_years= gdp_and_internet_use_df.loc[(gdp_and_internet_use_df.Year ==2004)| (gdp_and_internet_use_df.Year == 2009)|(gdp_and_internet_use_df.Year==2014)]\n",
    "subset_years.shape\n"
   ]
  },
  {
   "cell_type": "code",
   "execution_count": null,
   "id": "f7549f0c",
   "metadata": {},
   "outputs": [],
   "source": [
    "gdp_and_internet_use_df.dtypes"
   ]
  },
  {
   "cell_type": "code",
   "execution_count": null,
   "id": "d91a4900",
   "metadata": {},
   "outputs": [],
   "source": [
    "my_list = [2004, 2009, 2014]\n",
    "year_list = gdp_and_internet_use_df.query(\"Year in @my_list\")\n",
    "year_list.shape"
   ]
  },
  {
   "cell_type": "code",
   "execution_count": null,
   "id": "337ff55c",
   "metadata": {},
   "outputs": [],
   "source": [
    "data_2004 = gdp_and_internet_use_df.loc[(gdp_and_internet_use_df.Year ==2004)]  \n",
    "data_2004           "
   ]
  },
  {
   "cell_type": "code",
   "execution_count": null,
   "id": "3567c8af",
   "metadata": {},
   "outputs": [],
   "source": [
    "data_2009 = gdp_and_internet_use_df.loc[(gdp_and_internet_use_df.Year ==2009)]  \n",
    "data_2009"
   ]
  },
  {
   "cell_type": "code",
   "execution_count": null,
   "id": "7b2091e5",
   "metadata": {},
   "outputs": [],
   "source": [
    "data_2014 = gdp_and_internet_use_df.loc[(gdp_and_internet_use_df.Year ==2014)]  \n",
    "data_2014"
   ]
  },
  {
   "cell_type": "code",
   "execution_count": null,
   "id": "7ac8baff",
   "metadata": {},
   "outputs": [],
   "source": [
    "max_value = data_2014['Internet_Users_Pct'].max()\n",
    "max_value"
   ]
  },
  {
   "cell_type": "code",
   "execution_count": null,
   "id": "94e5e1ac",
   "metadata": {},
   "outputs": [],
   "source": [
    "i = data_2014['Internet_Users_Pct'].idxmax()\n",
    "i\n",
    "print(data_2014['Country'][i])"
   ]
  },
  {
   "cell_type": "code",
   "execution_count": null,
   "id": "8eb4b2e9",
   "metadata": {},
   "outputs": [],
   "source": [
    "data_2014.loc[data_2014['Internet_Users_Pct'] == max_value ]['Country']"
   ]
  },
  {
   "cell_type": "code",
   "execution_count": null,
   "id": "c2ca3e06",
   "metadata": {},
   "outputs": [],
   "source": [
    "data_2014.loc[data_2014['Internet_Users_Pct'] == data_2014['Internet_Users_Pct'].min()]"
   ]
  },
  {
   "cell_type": "code",
   "execution_count": null,
   "id": "756cbc63",
   "metadata": {},
   "outputs": [],
   "source": [
    "data_2009.loc[data_2009['Internet_Users_Pct'] == data_2009['Internet_Users_Pct'].max()]"
   ]
  },
  {
   "cell_type": "code",
   "execution_count": null,
   "id": "30ac75e7",
   "metadata": {},
   "outputs": [],
   "source": [
    "data_2004.loc[data_2004['Internet_Users_Pct'] == data_2004['Internet_Users_Pct'].max()]"
   ]
  },
  {
   "cell_type": "code",
   "execution_count": null,
   "id": "3f2c2b9d",
   "metadata": {},
   "outputs": [],
   "source": [
    "data_2009.loc[data_2009['Internet_Users_Pct'] == data_2009['Internet_Users_Pct'].min()]"
   ]
  },
  {
   "cell_type": "code",
   "execution_count": null,
   "id": "1d9f92fe",
   "metadata": {},
   "outputs": [],
   "source": [
    "data_2004.loc[data_2004['Internet_Users_Pct'] == data_2004['Internet_Users_Pct'].min()]"
   ]
  },
  {
   "cell_type": "code",
   "execution_count": null,
   "id": "b547bcb1",
   "metadata": {},
   "outputs": [],
   "source": [
    "data_2014.loc[data_2014['GDP_Per_Capita'] == data_2014['GDP_Per_Capita'].max()]"
   ]
  },
  {
   "cell_type": "code",
   "execution_count": null,
   "id": "2a616c80",
   "metadata": {},
   "outputs": [],
   "source": [
    "data_2014.loc[data_2014['GDP_Per_Capita'] == data_2014['GDP_Per_Capita'].min()]"
   ]
  },
  {
   "cell_type": "code",
   "execution_count": null,
   "id": "64280e45",
   "metadata": {},
   "outputs": [],
   "source": [
    "data_2014.loc[data_2014['GDP_Per_Capita'] == data_2014['GDP_Per_Capita'].max()]"
   ]
  },
  {
   "cell_type": "code",
   "execution_count": null,
   "id": "1cdd3f38",
   "metadata": {},
   "outputs": [],
   "source": [
    "plt.scatter(x ='GDP_Per_Capita', y ='Internet_Users_Pct', data = data_2014 )"
   ]
  },
  {
   "cell_type": "code",
   "execution_count": null,
   "id": "c24525d8",
   "metadata": {},
   "outputs": [],
   "source": [
    "plt.scatter(x ='GDP_Per_Capita', y ='Internet_Users_Pct', data = data_2009 )"
   ]
  },
  {
   "cell_type": "code",
   "execution_count": null,
   "id": "7f36826f",
   "metadata": {},
   "outputs": [],
   "source": [
    "plt.scatter(x ='GDP_Per_Capita', y ='Internet_Users_Pct', data = data_2004 )"
   ]
  },
  {
   "cell_type": "code",
   "execution_count": null,
   "id": "d075dfd7",
   "metadata": {},
   "outputs": [],
   "source": [
    "data_2014.nlargest(5,'Internet_Users_Pct')"
   ]
  },
  {
   "cell_type": "code",
   "execution_count": null,
   "id": "c90410d4",
   "metadata": {},
   "outputs": [],
   "source": [
    "my_top_list = data_2014.nlargest(5,'Internet_Users_Pct').Country\n",
    "my_top_list"
   ]
  },
  {
   "cell_type": "code",
   "execution_count": null,
   "id": "c808fd35",
   "metadata": {},
   "outputs": [],
   "source": [
    "top_5_internet  = year_list.loc[year_list ['Country'].isin(my_top_list)]\n",
    "top_5_internet "
   ]
  },
  {
   "cell_type": "code",
   "execution_count": null,
   "id": "872c802d",
   "metadata": {},
   "outputs": [],
   "source": [
    "\n",
    "\n"
   ]
  },
  {
   "cell_type": "code",
   "execution_count": null,
   "id": "3f6b625a",
   "metadata": {},
   "outputs": [],
   "source": [
    "data_2014_smallest = data_2014.nsmallest(5,'Internet_Users_Pct')\n",
    "data_2014_smallest"
   ]
  },
  {
   "cell_type": "code",
   "execution_count": null,
   "id": "89e29b02",
   "metadata": {},
   "outputs": [],
   "source": [
    "my_bottom_list = data_2014.nsmallest(5, 'Internet_Users_Pct').Country \n",
    "my_bottom_list"
   ]
  },
  {
   "cell_type": "code",
   "execution_count": null,
   "id": "382eeafb",
   "metadata": {},
   "outputs": [],
   "source": [
    "internet_data_bottom = year_list.loc[year_list['Country'].isin(my_bottom_list)]\n",
    "internet_data_bottom"
   ]
  },
  {
   "cell_type": "code",
   "execution_count": null,
   "id": "a77219d1",
   "metadata": {},
   "outputs": [],
   "source": [
    "data_2014.nlargest(5, 'GDP_Per_Capita')"
   ]
  },
  {
   "cell_type": "code",
   "execution_count": null,
   "id": "7b382f6d",
   "metadata": {},
   "outputs": [],
   "source": [
    "my_gdp_list = data_2014.nlargest(5, 'GDP_Per_Capita').Country\n",
    "my_gdp_list"
   ]
  },
  {
   "cell_type": "code",
   "execution_count": null,
   "id": "682a259b",
   "metadata": {},
   "outputs": [],
   "source": [
    "gdp_top_5 = year_list.loc[year_list['Country'].isin(my_gdp_list)]\n",
    "gdp_top_5"
   ]
  },
  {
   "cell_type": "code",
   "execution_count": null,
   "id": "50c7f49a",
   "metadata": {},
   "outputs": [],
   "source": [
    "data_2014.nsmallest(5, 'GDP_Per_Capita')"
   ]
  },
  {
   "cell_type": "code",
   "execution_count": null,
   "id": "47621570",
   "metadata": {},
   "outputs": [],
   "source": [
    "my_gdp_bottomlist = data_2014.nsmallest(5, 'GDP_Per_Capita').Country\n",
    "my_gdp_bottomlist"
   ]
  },
  {
   "cell_type": "code",
   "execution_count": null,
   "id": "f928a842",
   "metadata": {},
   "outputs": [],
   "source": [
    "gdp_bottom_10 = year_list.loc[year_list['Country'].isin(my_gdp_bottomlist)]\n",
    "gdp_bottom_10"
   ]
  },
  {
   "cell_type": "code",
   "execution_count": null,
   "id": "c4338e78",
   "metadata": {},
   "outputs": [],
   "source": []
  }
 ],
 "metadata": {
  "kernelspec": {
   "display_name": "Python 3 (ipykernel)",
   "language": "python",
   "name": "python3"
  },
  "language_info": {
   "codemirror_mode": {
    "name": "ipython",
    "version": 3
   },
   "file_extension": ".py",
   "mimetype": "text/x-python",
   "name": "python",
   "nbconvert_exporter": "python",
   "pygments_lexer": "ipython3",
   "version": "3.9.13"
  }
 },
 "nbformat": 4,
 "nbformat_minor": 5
}
